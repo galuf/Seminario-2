{
 "cells": [
  {
   "cell_type": "code",
   "execution_count": 1,
   "metadata": {},
   "outputs": [],
   "source": [
    "import pandas as pd\n",
    "import numpy as np\n",
    "from pylab import *\n",
    "import matplotlib.pyplot as plt"
   ]
  },
  {
   "cell_type": "code",
   "execution_count": 2,
   "metadata": {},
   "outputs": [
    {
     "name": "stderr",
     "output_type": "stream",
     "text": [
      "/home/galuf/anaconda3/lib/python3.7/site-packages/IPython/core/interactiveshell.py:3063: DtypeWarning: Columns (0) have mixed types.Specify dtype option on import or set low_memory=False.\n",
      "  interactivity=interactivity, compiler=compiler, result=result)\n"
     ]
    }
   ],
   "source": [
    "rank = pd.read_csv('res_p_rank',sep=\"\\t\",names=['num','valor'])\n",
    "wheel = pd.read_csv('res_p_whell',sep=\"\\t\",names=['num','valor'])\n",
    "unitario = pd.read_csv('res_unitario',sep=\"\\t\",names=['num','vaP','valor','mut','porc','numM'])"
   ]
  },
  {
   "cell_type": "code",
   "execution_count": 3,
   "metadata": {},
   "outputs": [],
   "source": [
    "rank_vect = list(rank['valor'][:len(rank['valor'])-5])"
   ]
  },
  {
   "cell_type": "code",
   "execution_count": 4,
   "metadata": {},
   "outputs": [],
   "source": [
    "wheel_vect = list(wheel['valor'][:len(wheel['valor'])-5])"
   ]
  },
  {
   "cell_type": "code",
   "execution_count": 5,
   "metadata": {},
   "outputs": [],
   "source": [
    "unitario_vect = list(unitario['valor'][:len(unitario['valor'])-4])\n",
    "x1 = range(0,len(rank_vect))\n",
    "x2 = range(0,len(wheel_vect))\n",
    "x3 = range(0,len(unitario_vect))"
   ]
  },
  {
   "cell_type": "code",
   "execution_count": 6,
   "metadata": {},
   "outputs": [
    {
     "data": {
      "text/plain": [
       "Text(0.5, 0, 'Epocas')"
      ]
     },
     "execution_count": 6,
     "metadata": {},
     "output_type": "execute_result"
    },
    {
     "data": {
      "image/png": "[encoded data removed]",
      "text/plain": [
       "<Figure size 800x480 with 1 Axes>"
      ]
     },
     "metadata": {
      "needs_background": "light"
     },
     "output_type": "display_data"
    }
   ],
   "source": [
    "plt.figure(figsize=(10, 6), dpi=80)\n",
    "plt.plot(x1, rank_vect, color=\"blue\", linewidth=1.0, linestyle=\"-\",label=\"Rank\")\n",
    "plt.plot(x2, wheel_vect, color=\"red\",  linewidth=1.0, linestyle=\"-\",label=\"Wheel\")\n",
    "plt.plot(x3, unitario_vect, color=\"black\",  linewidth=1.0, linestyle=\"-\",label=\"Unitario\")\n",
    "\n",
    "plt.legend(loc='lower right')\n",
    "plt.ylabel('Aprendizaje')\n",
    "plt.xlabel('Epocas')"
   ]
  },
  {
   "cell_type": "code",
   "execution_count": null,
   "metadata": {},
   "outputs": [],
   "source": []
  },
  {
   "cell_type": "code",
   "execution_count": null,
   "metadata": {},
   "outputs": [],
   "source": []
  }
 ],
 "metadata": {
  "kernelspec": {
   "display_name": "Python 3",
   "language": "python",
   "name": "python3"
  },
  "language_info": {
   "codemirror_mode": {
    "name": "ipython",
    "version": 3
   },
   "file_extension": ".py",
   "mimetype": "text/x-python",
   "name": "python",
   "nbconvert_exporter": "python",
   "pygments_lexer": "ipython3",
   "version": "3.7.6"
  }
 },
 "nbformat": 4,
 "nbformat_minor": 4
}
